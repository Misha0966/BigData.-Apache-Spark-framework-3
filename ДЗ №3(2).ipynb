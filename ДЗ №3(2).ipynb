{
  "nbformat": 4,
  "nbformat_minor": 0,
  "metadata": {
    "colab": {
      "provenance": []
    },
    "kernelspec": {
      "name": "python3",
      "display_name": "Python 3"
    },
    "language_info": {
      "name": "python"
    }
  },
  "cells": [
    {
      "cell_type": "code",
      "metadata": {
        "colab": {
          "base_uri": "https://localhost:8080/"
        },
        "id": "W5AsCKO5Nqsh",
        "outputId": "82c650ea-9f77-48df-ebd9-fed9bc9dcfa0"
      },
      "source": [
        "!pip install pyspark"
      ],
      "execution_count": 3,
      "outputs": [
        {
          "output_type": "stream",
          "name": "stdout",
          "text": [
            "Collecting pyspark\n",
            "  Downloading pyspark-3.5.0.tar.gz (316.9 MB)\n",
            "\u001b[2K     \u001b[90m━━━━━━━━━━━━━━━━━━━━━━━━━━━━━━━━━━━━━━━━\u001b[0m \u001b[32m316.9/316.9 MB\u001b[0m \u001b[31m2.6 MB/s\u001b[0m eta \u001b[36m0:00:00\u001b[0m\n",
            "\u001b[?25h  Preparing metadata (setup.py) ... \u001b[?25l\u001b[?25hdone\n",
            "Requirement already satisfied: py4j==0.10.9.7 in /usr/local/lib/python3.10/dist-packages (from pyspark) (0.10.9.7)\n",
            "Building wheels for collected packages: pyspark\n",
            "  Building wheel for pyspark (setup.py) ... \u001b[?25l\u001b[?25hdone\n",
            "  Created wheel for pyspark: filename=pyspark-3.5.0-py2.py3-none-any.whl size=317425344 sha256=6ac40a7c0454d0ebabd26d3ee34a9df9864764ff5767273ce2de08720f4d3b05\n",
            "  Stored in directory: /root/.cache/pip/wheels/41/4e/10/c2cf2467f71c678cfc8a6b9ac9241e5e44a01940da8fbb17fc\n",
            "Successfully built pyspark\n",
            "Installing collected packages: pyspark\n",
            "Successfully installed pyspark-3.5.0\n"
          ]
        }
      ]
    },
    {
      "cell_type": "code",
      "metadata": {
        "id": "E3Q9g_UyNxS6"
      },
      "source": [
        "from pyspark.sql import SparkSession\n",
        "\n",
        "spark = SparkSession.builder\\\n",
        "    .master(\"local[2]\")\\\n",
        "    .appName(\"Lesson_2\")\\\n",
        "    .config(\"spark.executor.instances\",2)\\\n",
        "    .config(\"spark.executor.memory\",'2g')\\\n",
        "    .config(\"spark.executor.cores\",1)\\\n",
        "    .getOrCreate()\n",
        "sc = spark.sparkContext"
      ],
      "execution_count": 4,
      "outputs": []
    },
    {
      "cell_type": "markdown",
      "metadata": {
        "id": "dVGNGR7pN1KC"
      },
      "source": [
        "# Самостоятельная работа к уроку 3\n",
        "На уроке мы попробовали оконные и пользовательские функции. Теперь закрепим полученные знания."
      ]
    },
    {
      "cell_type": "markdown",
      "metadata": {
        "id": "agigNChqOHnK"
      },
      "source": [
        "## Данные: [google drive: raw_sales.csv](https://drive.google.com/file/d/1G2N7Mnt4-Tqz4JdJxutGDMbJiOr32kZp/view?usp=sharing)\n",
        "\n",
        " Каждая строчка это продажа жилья, которая состоит из следующих полей (думаю описание не требуется):\n",
        "*   date of sale\n",
        "*   price\n",
        "*   property type\n",
        "*   number of bedrooms\n",
        "*   4digit postcode"
      ]
    },
    {
      "cell_type": "code",
      "source": [
        "!wget 'https://drive.google.com/uc?export=download&id=1xbtFBPz50OBoyYFVGd-B03pCTJdCax07' -O raw_sales.csv"
      ],
      "metadata": {
        "id": "tkesBvlJS2b3",
        "outputId": "28e35626-2880-4300-cc8a-22985f0198ef",
        "colab": {
          "base_uri": "https://localhost:8080/"
        }
      },
      "execution_count": 5,
      "outputs": [
        {
          "output_type": "stream",
          "name": "stdout",
          "text": [
            "--2023-11-06 15:44:39--  https://drive.google.com/uc?export=download&id=1xbtFBPz50OBoyYFVGd-B03pCTJdCax07\n",
            "Resolving drive.google.com (drive.google.com)... 173.194.216.101, 173.194.216.100, 173.194.216.139, ...\n",
            "Connecting to drive.google.com (drive.google.com)|173.194.216.101|:443... connected.\n",
            "HTTP request sent, awaiting response... 303 See Other\n",
            "Location: https://doc-0c-5k-docs.googleusercontent.com/docs/securesc/ha0ro937gcuc7l7deffksulhg5h7mbp1/jf5eqo0c52qr8qsomt86nmvefp6kldp4/1699285425000/04099736791713398091/*/1xbtFBPz50OBoyYFVGd-B03pCTJdCax07?e=download&uuid=9f38b248-6bc4-4113-a402-556334e29c5a [following]\n",
            "Warning: wildcards not supported in HTTP.\n",
            "--2023-11-06 15:44:39--  https://doc-0c-5k-docs.googleusercontent.com/docs/securesc/ha0ro937gcuc7l7deffksulhg5h7mbp1/jf5eqo0c52qr8qsomt86nmvefp6kldp4/1699285425000/04099736791713398091/*/1xbtFBPz50OBoyYFVGd-B03pCTJdCax07?e=download&uuid=9f38b248-6bc4-4113-a402-556334e29c5a\n",
            "Resolving doc-0c-5k-docs.googleusercontent.com (doc-0c-5k-docs.googleusercontent.com)... 173.194.215.132, 2607:f8b0:400c:c0c::84\n",
            "Connecting to doc-0c-5k-docs.googleusercontent.com (doc-0c-5k-docs.googleusercontent.com)|173.194.215.132|:443... connected.\n",
            "HTTP request sent, awaiting response... 200 OK\n",
            "Length: 1505497 (1.4M) [text/csv]\n",
            "Saving to: ‘raw_sales.csv’\n",
            "\n",
            "raw_sales.csv       100%[===================>]   1.44M  --.-KB/s    in 0.009s  \n",
            "\n",
            "2023-11-06 15:44:40 (153 MB/s) - ‘raw_sales.csv’ saved [1505497/1505497]\n",
            "\n"
          ]
        }
      ]
    },
    {
      "cell_type": "code",
      "source": [
        "df = spark.read.csv('raw_sales.csv', header=True, inferSchema=True)\n",
        "df.printSchema()\n",
        "df.show(truncate=False)"
      ],
      "metadata": {
        "id": "RRLajiyUTRKs",
        "outputId": "99bef4f0-2c86-4c64-f393-1f79fdaa3835",
        "colab": {
          "base_uri": "https://localhost:8080/"
        }
      },
      "execution_count": 6,
      "outputs": [
        {
          "output_type": "stream",
          "name": "stdout",
          "text": [
            "root\n",
            " |-- datesold: timestamp (nullable = true)\n",
            " |-- postcode: integer (nullable = true)\n",
            " |-- price: integer (nullable = true)\n",
            " |-- propertyType: string (nullable = true)\n",
            " |-- bedrooms: integer (nullable = true)\n",
            "\n",
            "+-------------------+--------+-------+------------+--------+\n",
            "|datesold           |postcode|price  |propertyType|bedrooms|\n",
            "+-------------------+--------+-------+------------+--------+\n",
            "|2007-02-07 00:00:00|2607    |525000 |house       |4       |\n",
            "|2007-02-27 00:00:00|2906    |290000 |house       |3       |\n",
            "|2007-03-07 00:00:00|2905    |328000 |house       |3       |\n",
            "|2007-03-09 00:00:00|2905    |380000 |house       |4       |\n",
            "|2007-03-21 00:00:00|2906    |310000 |house       |3       |\n",
            "|2007-04-04 00:00:00|2905    |465000 |house       |4       |\n",
            "|2007-04-24 00:00:00|2607    |399000 |house       |3       |\n",
            "|2007-04-30 00:00:00|2606    |1530000|house       |4       |\n",
            "|2007-05-24 00:00:00|2902    |359000 |house       |3       |\n",
            "|2007-05-25 00:00:00|2906    |320000 |house       |3       |\n",
            "|2007-06-26 00:00:00|2902    |385000 |house       |3       |\n",
            "|2007-06-27 00:00:00|2906    |305000 |house       |3       |\n",
            "|2007-06-27 00:00:00|2612    |850000 |house       |4       |\n",
            "|2007-06-28 00:00:00|2904    |765000 |house       |4       |\n",
            "|2007-06-30 00:00:00|2615    |517000 |house       |4       |\n",
            "|2007-07-02 00:00:00|2914    |800000 |house       |5       |\n",
            "|2007-07-03 00:00:00|2906    |336000 |house       |3       |\n",
            "|2007-07-06 00:00:00|2615    |535000 |house       |5       |\n",
            "|2007-07-07 00:00:00|2602    |900000 |house       |4       |\n",
            "|2007-07-08 00:00:00|2600    |327000 |house       |1       |\n",
            "+-------------------+--------+-------+------------+--------+\n",
            "only showing top 20 rows\n",
            "\n"
          ]
        }
      ]
    },
    {
      "cell_type": "markdown",
      "metadata": {
        "id": "xisyFowtQgx-"
      },
      "source": [
        "## Задание 1\n",
        "Добавьте к таблице следующие поля:\n",
        "*  Средняя стомость 10 проданных домов до текущего в том же районе (4digit postcode) (1 балл)\n",
        "*  Средняя стомость 10 проданных домов после текущего в том же районе (4digit postcode) (1 балл)\n",
        "*  Стоимость последнего проданного дома до текущего (1 балл)\n"
      ]
    },
    {
      "cell_type": "code",
      "metadata": {
        "id": "NsUKEiRTUOtT"
      },
      "source": [],
      "execution_count": null,
      "outputs": []
    },
    {
      "cell_type": "code",
      "source": [
        "from pyspark.sql import Window\n",
        "import pyspark.sql.functions as F\n",
        "\n",
        "# Средняя стомость 10 проданных домов до текущего в том же районе (в SQL запросе)\n",
        "df.registerTempTable('df_task_1_1')\n",
        "\n",
        "spark.sql('''\n",
        "select *,\n",
        "AVG(price) OVER(PARTITION BY postcode ORDER BY datesold ROWS BETWEEN 9 PRECEDING AND CURRENT ROW) AS avg_10_prev\n",
        "FROM df_task_1_1\n",
        "''').show(15)"
      ],
      "metadata": {
        "id": "iKmD7Db8Tz2G",
        "outputId": "c55afc3c-7ef1-4012-f8e6-62af3ab3b1a6",
        "colab": {
          "base_uri": "https://localhost:8080/"
        }
      },
      "execution_count": 7,
      "outputs": [
        {
          "output_type": "stream",
          "name": "stderr",
          "text": [
            "/usr/local/lib/python3.10/dist-packages/pyspark/sql/dataframe.py:329: FutureWarning: Deprecated in 2.0, use createOrReplaceTempView instead.\n",
            "  warnings.warn(\"Deprecated in 2.0, use createOrReplaceTempView instead.\", FutureWarning)\n"
          ]
        },
        {
          "output_type": "stream",
          "name": "stdout",
          "text": [
            "+-------------------+--------+-------+------------+--------+-----------------+\n",
            "|           datesold|postcode|  price|propertyType|bedrooms|      avg_10_prev|\n",
            "+-------------------+--------+-------+------------+--------+-----------------+\n",
            "|2007-07-08 00:00:00|    2600| 327000|       house|       1|         327000.0|\n",
            "|2007-08-16 00:00:00|    2600| 790000|       house|       4|         558500.0|\n",
            "|2007-12-05 00:00:00|    2600| 825000|       house|       3|647333.3333333334|\n",
            "|2008-01-21 00:00:00|    2600| 315000|        unit|       1|         564250.0|\n",
            "|2008-04-24 00:00:00|    2600| 292500|       house|       1|         509900.0|\n",
            "|2008-05-30 00:00:00|    2600| 329000|        unit|       2|         479750.0|\n",
            "|2008-06-19 00:00:00|    2600| 765000|       house|       5|         520500.0|\n",
            "|2008-07-29 00:00:00|    2600| 927000|       house|       4|         571312.5|\n",
            "|2008-09-02 00:00:00|    2600|1380000|       house|       5|661166.6666666666|\n",
            "|2008-09-08 00:00:00|    2600| 740000|       house|       3|         669050.0|\n",
            "|2008-09-17 00:00:00|    2600| 720000|       house|       3|         708350.0|\n",
            "|2008-09-22 00:00:00|    2600| 690000|       house|       4|         698350.0|\n",
            "|2008-11-18 00:00:00|    2600| 635000|       house|       3|         679350.0|\n",
            "|2008-11-18 00:00:00|    2600| 950000|       house|       3|         742850.0|\n",
            "|2008-11-21 00:00:00|    2600| 730000|       house|       3|         786600.0|\n",
            "+-------------------+--------+-------+------------+--------+-----------------+\n",
            "only showing top 15 rows\n",
            "\n"
          ]
        }
      ]
    },
    {
      "cell_type": "markdown",
      "metadata": {
        "id": "SoKJ_YOBUQGL"
      },
      "source": [
        "## Задание 2\n",
        "Найдите среднюю цену жилья для каждого года и приджойните эти данные к таблице из задания 1. (2 балла)\n",
        "\n",
        "\n",
        "*(left join on a.year(date of sale) = b.year, где a - таблица из первого задания, а b таблица после группировки)*"
      ]
    },
    {
      "cell_type": "code",
      "metadata": {
        "id": "emn6tIDVQWi-",
        "outputId": "59d96920-87f3-45e1-93a9-f91a4c71cb22",
        "colab": {
          "base_uri": "https://localhost:8080/"
        }
      },
      "source": [
        "# Средняя стомость 10 проданных домов до текущего в том же районе (в pyspark)\n",
        "w = Window().partitionBy('postcode')\\\n",
        "            .orderBy('datesold')\\\n",
        "            .rowsBetween(Window.currentRow - 9, Window.currentRow)\n",
        "\n",
        "df.withColumn('avg_10_prev', F.mean('price').over(w)).show(15)"
      ],
      "execution_count": 8,
      "outputs": [
        {
          "output_type": "stream",
          "name": "stdout",
          "text": [
            "+-------------------+--------+-------+------------+--------+-----------------+\n",
            "|           datesold|postcode|  price|propertyType|bedrooms|      avg_10_prev|\n",
            "+-------------------+--------+-------+------------+--------+-----------------+\n",
            "|2007-07-08 00:00:00|    2600| 327000|       house|       1|         327000.0|\n",
            "|2007-08-16 00:00:00|    2600| 790000|       house|       4|         558500.0|\n",
            "|2007-12-05 00:00:00|    2600| 825000|       house|       3|647333.3333333334|\n",
            "|2008-01-21 00:00:00|    2600| 315000|        unit|       1|         564250.0|\n",
            "|2008-04-24 00:00:00|    2600| 292500|       house|       1|         509900.0|\n",
            "|2008-05-30 00:00:00|    2600| 329000|        unit|       2|         479750.0|\n",
            "|2008-06-19 00:00:00|    2600| 765000|       house|       5|         520500.0|\n",
            "|2008-07-29 00:00:00|    2600| 927000|       house|       4|         571312.5|\n",
            "|2008-09-02 00:00:00|    2600|1380000|       house|       5|661166.6666666666|\n",
            "|2008-09-08 00:00:00|    2600| 740000|       house|       3|         669050.0|\n",
            "|2008-09-17 00:00:00|    2600| 720000|       house|       3|         708350.0|\n",
            "|2008-09-22 00:00:00|    2600| 690000|       house|       4|         698350.0|\n",
            "|2008-11-18 00:00:00|    2600| 635000|       house|       3|         679350.0|\n",
            "|2008-11-18 00:00:00|    2600| 950000|       house|       3|         742850.0|\n",
            "|2008-11-21 00:00:00|    2600| 730000|       house|       3|         786600.0|\n",
            "+-------------------+--------+-------+------------+--------+-----------------+\n",
            "only showing top 15 rows\n",
            "\n"
          ]
        }
      ]
    },
    {
      "cell_type": "code",
      "source": [
        "# Средняя стомость 10 проданных домов после текущего в том же районе (в SQL)\n",
        "df.registerTempTable('df_task_1_2')\n",
        "\n",
        "spark.sql('''\n",
        "select *,\n",
        "AVG(price) OVER(PARTITION BY postcode ORDER BY datesold ROWS BETWEEN CURRENT ROW AND 9 FOLLOWING) AS avg_10_next\n",
        "FROM df_task_1_2\n",
        "''').show(15)"
      ],
      "metadata": {
        "id": "JDiR7IZeUh8v",
        "outputId": "6023566b-45e5-45c2-9565-cfe16bcd014e",
        "colab": {
          "base_uri": "https://localhost:8080/"
        }
      },
      "execution_count": 9,
      "outputs": [
        {
          "output_type": "stream",
          "name": "stdout",
          "text": [
            "+-------------------+--------+-------+------------+--------+-----------+\n",
            "|           datesold|postcode|  price|propertyType|bedrooms|avg_10_next|\n",
            "+-------------------+--------+-------+------------+--------+-----------+\n",
            "|2007-07-08 00:00:00|    2600| 327000|       house|       1|   669050.0|\n",
            "|2007-08-16 00:00:00|    2600| 790000|       house|       4|   708350.0|\n",
            "|2007-12-05 00:00:00|    2600| 825000|       house|       3|   698350.0|\n",
            "|2008-01-21 00:00:00|    2600| 315000|        unit|       1|   679350.0|\n",
            "|2008-04-24 00:00:00|    2600| 292500|       house|       1|   742850.0|\n",
            "|2008-05-30 00:00:00|    2600| 329000|        unit|       2|   786600.0|\n",
            "|2008-06-19 00:00:00|    2600| 765000|       house|       5|   839200.0|\n",
            "|2008-07-29 00:00:00|    2600| 927000|       house|       4|   868450.0|\n",
            "|2008-09-02 00:00:00|    2600|1380000|       house|       5|   805750.0|\n",
            "|2008-09-08 00:00:00|    2600| 740000|       house|       3|   715250.0|\n",
            "|2008-09-17 00:00:00|    2600| 720000|       house|       3|   756250.0|\n",
            "|2008-09-22 00:00:00|    2600| 690000|       house|       4|   741750.0|\n",
            "|2008-11-18 00:00:00|    2600| 635000|       house|       3|   730550.0|\n",
            "|2008-11-18 00:00:00|    2600| 950000|       house|       3|   755050.0|\n",
            "|2008-11-21 00:00:00|    2600| 730000|       house|       3|   701050.0|\n",
            "+-------------------+--------+-------+------------+--------+-----------+\n",
            "only showing top 15 rows\n",
            "\n"
          ]
        }
      ]
    },
    {
      "cell_type": "code",
      "source": [
        "# Стоимость последнего проданного дома до текущего (в SQL)\n",
        "df.registerTempTable('df_task_1_3')\n",
        "\n",
        "spark.sql('''\n",
        "select *,\n",
        "LAG(price, 1, 0) OVER(ORDER BY datesold) AS prev_price\n",
        "FROM df_task_1_3\n",
        "''').show(15)"
      ],
      "metadata": {
        "id": "a8lj5YVbUuzm",
        "outputId": "a3a3e931-5c35-47ba-bc1e-843fbdd46248",
        "colab": {
          "base_uri": "https://localhost:8080/"
        }
      },
      "execution_count": 10,
      "outputs": [
        {
          "output_type": "stream",
          "name": "stdout",
          "text": [
            "+-------------------+--------+-------+------------+--------+----------+\n",
            "|           datesold|postcode|  price|propertyType|bedrooms|prev_price|\n",
            "+-------------------+--------+-------+------------+--------+----------+\n",
            "|2007-02-07 00:00:00|    2607| 525000|       house|       4|         0|\n",
            "|2007-02-27 00:00:00|    2906| 290000|       house|       3|    525000|\n",
            "|2007-03-07 00:00:00|    2905| 328000|       house|       3|    290000|\n",
            "|2007-03-09 00:00:00|    2905| 380000|       house|       4|    328000|\n",
            "|2007-03-21 00:00:00|    2906| 310000|       house|       3|    380000|\n",
            "|2007-04-04 00:00:00|    2905| 465000|       house|       4|    310000|\n",
            "|2007-04-24 00:00:00|    2607| 399000|       house|       3|    465000|\n",
            "|2007-04-30 00:00:00|    2606|1530000|       house|       4|    399000|\n",
            "|2007-05-24 00:00:00|    2902| 359000|       house|       3|   1530000|\n",
            "|2007-05-25 00:00:00|    2906| 320000|       house|       3|    359000|\n",
            "|2007-06-26 00:00:00|    2902| 385000|       house|       3|    320000|\n",
            "|2007-06-27 00:00:00|    2906| 305000|       house|       3|    385000|\n",
            "|2007-06-27 00:00:00|    2612| 850000|       house|       4|    305000|\n",
            "|2007-06-27 00:00:00|    2606| 300000|        unit|       2|    850000|\n",
            "|2007-06-28 00:00:00|    2904| 765000|       house|       4|    300000|\n",
            "+-------------------+--------+-------+------------+--------+----------+\n",
            "only showing top 15 rows\n",
            "\n"
          ]
        }
      ]
    },
    {
      "cell_type": "code",
      "source": [
        "# Стоимость последнего проданного дома до текущего (в pyspark)\n",
        "\n",
        "w = Window().orderBy('datesold')\n",
        "df.withColumn('prev_price', F.lag('price', 1, 0).over(w)).show(15)"
      ],
      "metadata": {
        "id": "QGlWymrIU-AN",
        "outputId": "dcdab729-ff9a-4a5f-d9d9-ad8fce61a898",
        "colab": {
          "base_uri": "https://localhost:8080/"
        }
      },
      "execution_count": 11,
      "outputs": [
        {
          "output_type": "stream",
          "name": "stdout",
          "text": [
            "+-------------------+--------+-------+------------+--------+----------+\n",
            "|           datesold|postcode|  price|propertyType|bedrooms|prev_price|\n",
            "+-------------------+--------+-------+------------+--------+----------+\n",
            "|2007-02-07 00:00:00|    2607| 525000|       house|       4|         0|\n",
            "|2007-02-27 00:00:00|    2906| 290000|       house|       3|    525000|\n",
            "|2007-03-07 00:00:00|    2905| 328000|       house|       3|    290000|\n",
            "|2007-03-09 00:00:00|    2905| 380000|       house|       4|    328000|\n",
            "|2007-03-21 00:00:00|    2906| 310000|       house|       3|    380000|\n",
            "|2007-04-04 00:00:00|    2905| 465000|       house|       4|    310000|\n",
            "|2007-04-24 00:00:00|    2607| 399000|       house|       3|    465000|\n",
            "|2007-04-30 00:00:00|    2606|1530000|       house|       4|    399000|\n",
            "|2007-05-24 00:00:00|    2902| 359000|       house|       3|   1530000|\n",
            "|2007-05-25 00:00:00|    2906| 320000|       house|       3|    359000|\n",
            "|2007-06-26 00:00:00|    2902| 385000|       house|       3|    320000|\n",
            "|2007-06-27 00:00:00|    2906| 305000|       house|       3|    385000|\n",
            "|2007-06-27 00:00:00|    2612| 850000|       house|       4|    305000|\n",
            "|2007-06-27 00:00:00|    2606| 300000|        unit|       2|    850000|\n",
            "|2007-06-28 00:00:00|    2904| 765000|       house|       4|    300000|\n",
            "+-------------------+--------+-------+------------+--------+----------+\n",
            "only showing top 15 rows\n",
            "\n"
          ]
        }
      ]
    },
    {
      "cell_type": "markdown",
      "metadata": {
        "id": "Qvh2x6_8YU3F"
      },
      "source": [
        "## Задание 3\n",
        "В итоге у вас таблица с колонками (или нечто похожее):\n",
        "*   price\n",
        "*   Среднегодовая цена\n",
        "*  Средняя стомость 10 проданных домов до текущего в том же районе (4digit postcode) (1 балл)\n",
        "*  Средняя стомость 10 проданных домов после текущего в том же районе (4digit postcode) (1 балл)\n",
        "*  Стоимость последнего проданного дома до текущего ((1 балл)\n",
        "*  и др.\n",
        "\n",
        "Посчитайте кол-во уникальных значений в каждой строчке (unique(row)). (2 балла)"
      ]
    },
    {
      "cell_type": "code",
      "metadata": {
        "id": "qFBmC9gvNyzl",
        "outputId": "e067de7b-99f8-4b78-8239-ba4ee7a66305",
        "colab": {
          "base_uri": "https://localhost:8080/"
        }
      },
      "source": [
        "w_y = Window().orderBy('year')\n",
        "\n",
        "w_prev = Window().partitionBy('postcode')\\\n",
        "            .orderBy('datesold')\\\n",
        "            .rowsBetween(Window.currentRow - 9, Window.currentRow)\n",
        "\n",
        "w_next = Window().partitionBy('postcode')\\\n",
        "            .orderBy('datesold')\\\n",
        "            .rowsBetween(Window.currentRow, Window.currentRow + 9)\n",
        "\n",
        "w = Window().orderBy('datesold')\n",
        "\n",
        "df = df.withColumn('year', F.split(\"datesold\", \"-\").getItem(0))\\\n",
        "       .withColumn('mean', F.mean('price').over(w_y))\\\n",
        "       .withColumn('avg_10_prev', F.mean('price').over(w_prev))\\\n",
        "       .withColumn('avg_10_next', F.mean('price').over(w_next))\\\n",
        "       .withColumn('prev_price', F.lag('price', 1, 0).over(w))\n",
        "\n",
        "df.show(15)"
      ],
      "execution_count": 12,
      "outputs": [
        {
          "output_type": "stream",
          "name": "stdout",
          "text": [
            "+-------------------+--------+-------+------------+--------+----+-----------------+-----------------+-----------+----------+\n",
            "|           datesold|postcode|  price|propertyType|bedrooms|year|             mean|      avg_10_prev|avg_10_next|prev_price|\n",
            "+-------------------+--------+-------+------------+--------+----+-----------------+-----------------+-----------+----------+\n",
            "|2007-07-08 00:00:00|    2600| 327000|       house|       1|2007|522377.2108843537|         327000.0|   669050.0|    900000|\n",
            "|2007-08-16 00:00:00|    2600| 790000|       house|       4|2007|522377.2108843537|         558500.0|   708350.0|    625000|\n",
            "|2007-12-05 00:00:00|    2600| 825000|       house|       3|2007|522377.2108843537|647333.3333333334|   698350.0|    620000|\n",
            "|2008-01-21 00:00:00|    2600| 315000|        unit|       1|2008| 499156.106870229|         564250.0|   679350.0|    580000|\n",
            "|2008-04-24 00:00:00|    2600| 292500|       house|       1|2008| 499156.106870229|         509900.0|   742850.0|    445000|\n",
            "|2008-05-30 00:00:00|    2600| 329000|        unit|       2|2008| 499156.106870229|         479750.0|   786600.0|    357000|\n",
            "|2008-06-19 00:00:00|    2600| 765000|       house|       5|2008| 499156.106870229|         520500.0|   839200.0|    362000|\n",
            "|2008-07-29 00:00:00|    2600| 927000|       house|       4|2008| 499156.106870229|         571312.5|   868450.0|    365000|\n",
            "|2008-09-02 00:00:00|    2600|1380000|       house|       5|2008| 499156.106870229|661166.6666666666|   805750.0|    541000|\n",
            "|2008-09-08 00:00:00|    2600| 740000|       house|       3|2008| 499156.106870229|         669050.0|   715250.0|    360500|\n",
            "|2008-09-17 00:00:00|    2600| 720000|       house|       3|2008| 499156.106870229|         708350.0|   756250.0|    420000|\n",
            "|2008-09-22 00:00:00|    2600| 690000|       house|       4|2008| 499156.106870229|         698350.0|   741750.0|    685000|\n",
            "|2008-11-18 00:00:00|    2600| 635000|       house|       3|2008| 499156.106870229|         679350.0|   730550.0|    540000|\n",
            "|2008-11-18 00:00:00|    2600| 950000|       house|       3|2008| 499156.106870229|         742850.0|   755050.0|    635000|\n",
            "|2008-11-21 00:00:00|    2600| 730000|       house|       3|2008| 499156.106870229|         786600.0|   701050.0|    500000|\n",
            "+-------------------+--------+-------+------------+--------+----+-----------------+-----------------+-----------+----------+\n",
            "only showing top 15 rows\n",
            "\n"
          ]
        }
      ]
    },
    {
      "cell_type": "code",
      "source": [
        "l = lambda row: '**'.join(row) # объединим все ячейки\n",
        "l_udf = F.udf(l, returnType='string')\n",
        "\n",
        "df.select(l_udf(F.array_distinct(F.array('*')))).count() # посчитаем кол-во уникальных"
      ],
      "metadata": {
        "id": "v49t4Pg9VmnW",
        "outputId": "d8e5e031-919b-4951-cc96-23a457d439a9",
        "colab": {
          "base_uri": "https://localhost:8080/"
        }
      },
      "execution_count": 13,
      "outputs": [
        {
          "output_type": "execute_result",
          "data": {
            "text/plain": [
              "29580"
            ]
          },
          "metadata": {},
          "execution_count": 13
        }
      ]
    },
    {
      "cell_type": "code",
      "source": [
        "l = lambda row: '**'.join(row) # объединим все ячейки\n",
        "l_udf = F.pandas_udf(l, returnType='string')\n",
        "\n",
        "df.select(l_udf(F.array_distinct(F.array('*')))).count() # посчитаем кол-во уникальных"
      ],
      "metadata": {
        "id": "dzXip2m-Vsqg",
        "outputId": "f2cbe04a-59df-4b9f-f308-84b2444c8691",
        "colab": {
          "base_uri": "https://localhost:8080/"
        }
      },
      "execution_count": 14,
      "outputs": [
        {
          "output_type": "execute_result",
          "data": {
            "text/plain": [
              "29580"
            ]
          },
          "metadata": {},
          "execution_count": 14
        }
      ]
    },
    {
      "cell_type": "code",
      "source": [],
      "metadata": {
        "id": "709VqV4OV3dM"
      },
      "execution_count": null,
      "outputs": []
    }
  ]
}